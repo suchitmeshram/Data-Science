{
 "cells": [
  {
   "cell_type": "markdown",
   "metadata": {},
   "source": [
    "# Predicting whether the customer will be defaulter or not"
   ]
  },
  {
   "cell_type": "code",
   "execution_count": 2,
   "metadata": {},
   "outputs": [],
   "source": [
    "import numpy as np\n",
    "import matplotlib.pyplot as plt\n",
    "import pandas as pd\n",
    "import seaborn as sns"
   ]
  },
  {
   "cell_type": "code",
   "execution_count": 3,
   "metadata": {
    "scrolled": true
   },
   "outputs": [
    {
     "data": {
      "text/html": [
       "<div>\n",
       "<style scoped>\n",
       "    .dataframe tbody tr th:only-of-type {\n",
       "        vertical-align: middle;\n",
       "    }\n",
       "\n",
       "    .dataframe tbody tr th {\n",
       "        vertical-align: top;\n",
       "    }\n",
       "\n",
       "    .dataframe thead th {\n",
       "        text-align: right;\n",
       "    }\n",
       "</style>\n",
       "<table border=\"1\" class=\"dataframe\">\n",
       "  <thead>\n",
       "    <tr style=\"text-align: right;\">\n",
       "      <th></th>\n",
       "      <th>Gender</th>\n",
       "      <th>Married</th>\n",
       "      <th>Dependents</th>\n",
       "      <th>Education</th>\n",
       "      <th>Self_Employed</th>\n",
       "      <th>ApplicantIncome</th>\n",
       "      <th>CoapplicantIncome</th>\n",
       "      <th>LoanAmount</th>\n",
       "      <th>Loan_Term</th>\n",
       "      <th>Credit_History_Available</th>\n",
       "      <th>Housing</th>\n",
       "      <th>Locality</th>\n",
       "      <th>Fraud_Risk</th>\n",
       "    </tr>\n",
       "  </thead>\n",
       "  <tbody>\n",
       "    <tr>\n",
       "      <th>0</th>\n",
       "      <td>1</td>\n",
       "      <td>0</td>\n",
       "      <td>0</td>\n",
       "      <td>1</td>\n",
       "      <td>0</td>\n",
       "      <td>5849</td>\n",
       "      <td>0</td>\n",
       "      <td>146</td>\n",
       "      <td>360</td>\n",
       "      <td>1</td>\n",
       "      <td>1</td>\n",
       "      <td>1</td>\n",
       "      <td>0</td>\n",
       "    </tr>\n",
       "    <tr>\n",
       "      <th>1</th>\n",
       "      <td>1</td>\n",
       "      <td>1</td>\n",
       "      <td>1</td>\n",
       "      <td>1</td>\n",
       "      <td>1</td>\n",
       "      <td>4583</td>\n",
       "      <td>1508</td>\n",
       "      <td>128</td>\n",
       "      <td>360</td>\n",
       "      <td>1</td>\n",
       "      <td>1</td>\n",
       "      <td>3</td>\n",
       "      <td>1</td>\n",
       "    </tr>\n",
       "    <tr>\n",
       "      <th>2</th>\n",
       "      <td>1</td>\n",
       "      <td>1</td>\n",
       "      <td>0</td>\n",
       "      <td>1</td>\n",
       "      <td>1</td>\n",
       "      <td>3000</td>\n",
       "      <td>0</td>\n",
       "      <td>66</td>\n",
       "      <td>360</td>\n",
       "      <td>1</td>\n",
       "      <td>1</td>\n",
       "      <td>1</td>\n",
       "      <td>1</td>\n",
       "    </tr>\n",
       "    <tr>\n",
       "      <th>3</th>\n",
       "      <td>1</td>\n",
       "      <td>1</td>\n",
       "      <td>0</td>\n",
       "      <td>0</td>\n",
       "      <td>1</td>\n",
       "      <td>2583</td>\n",
       "      <td>2358</td>\n",
       "      <td>120</td>\n",
       "      <td>360</td>\n",
       "      <td>1</td>\n",
       "      <td>1</td>\n",
       "      <td>1</td>\n",
       "      <td>1</td>\n",
       "    </tr>\n",
       "    <tr>\n",
       "      <th>4</th>\n",
       "      <td>1</td>\n",
       "      <td>0</td>\n",
       "      <td>0</td>\n",
       "      <td>1</td>\n",
       "      <td>0</td>\n",
       "      <td>6000</td>\n",
       "      <td>0</td>\n",
       "      <td>141</td>\n",
       "      <td>360</td>\n",
       "      <td>1</td>\n",
       "      <td>1</td>\n",
       "      <td>1</td>\n",
       "      <td>0</td>\n",
       "    </tr>\n",
       "  </tbody>\n",
       "</table>\n",
       "</div>"
      ],
      "text/plain": [
       "   Gender  Married  Dependents  Education  Self_Employed  ApplicantIncome  \\\n",
       "0       1        0           0          1              0             5849   \n",
       "1       1        1           1          1              1             4583   \n",
       "2       1        1           0          1              1             3000   \n",
       "3       1        1           0          0              1             2583   \n",
       "4       1        0           0          1              0             6000   \n",
       "\n",
       "   CoapplicantIncome  LoanAmount  Loan_Term  Credit_History_Available  \\\n",
       "0                  0         146        360                         1   \n",
       "1               1508         128        360                         1   \n",
       "2                  0          66        360                         1   \n",
       "3               2358         120        360                         1   \n",
       "4                  0         141        360                         1   \n",
       "\n",
       "   Housing  Locality  Fraud_Risk  \n",
       "0        1         1           0  \n",
       "1        1         3           1  \n",
       "2        1         1           1  \n",
       "3        1         1           1  \n",
       "4        1         1           0  "
      ]
     },
     "execution_count": 3,
     "metadata": {},
     "output_type": "execute_result"
    }
   ],
   "source": [
    "dataset = pd.read_csv('C:/Users/hp/Desktop/MentorBuddy/Datasets/fraud_dataset.csv')\n",
    "dataset.head()"
   ]
  },
  {
   "cell_type": "code",
   "execution_count": 6,
   "metadata": {},
   "outputs": [
    {
     "data": {
      "text/plain": [
       "(827, 13)"
      ]
     },
     "execution_count": 6,
     "metadata": {},
     "output_type": "execute_result"
    }
   ],
   "source": [
    "dataset.shape"
   ]
  },
  {
   "cell_type": "code",
   "execution_count": null,
   "metadata": {},
   "outputs": [],
   "source": []
  },
  {
   "cell_type": "code",
   "execution_count": 12,
   "metadata": {},
   "outputs": [
    {
     "data": {
      "text/plain": [
       "array([[<AxesSubplot:title={'center':'Fraud_Risk'}>]], dtype=object)"
      ]
     },
     "execution_count": 12,
     "metadata": {},
     "output_type": "execute_result"
    },
    {
     "data": {
      "image/png": "[encoded data removed]",
      "text/plain": [
       "<Figure size 432x288 with 1 Axes>"
      ]
     },
     "metadata": {
      "needs_background": "light"
     },
     "output_type": "display_data"
    }
   ],
   "source": [
    "dataset.hist(column=\"Fraud_Risk\",grid=False, color = \"red\")"
   ]
  },
  {
   "cell_type": "markdown",
   "metadata": {},
   "source": [
    "## Standerdize the variable"
   ]
  },
  {
   "cell_type": "code",
   "execution_count": 5,
   "metadata": {},
   "outputs": [],
   "source": [
    "from sklearn.preprocessing import StandardScaler"
   ]
  },
  {
   "cell_type": "code",
   "execution_count": 6,
   "metadata": {},
   "outputs": [],
   "source": [
    "scaler = StandardScaler()"
   ]
  },
  {
   "cell_type": "code",
   "execution_count": 7,
   "metadata": {},
   "outputs": [
    {
     "data": {
      "text/plain": [
       "array([0, 1, 1, 1, 0, 1, 1, 1, 1, 1, 1, 1, 1, 1, 1, 0, 0, 1, 1, 1, 1, 1,\n",
       "       1, 1, 1, 1, 1, 1, 1, 0, 1, 1, 1, 1, 1, 1, 1, 1, 0, 0, 1, 0, 1, 1,\n",
       "       1, 0, 1, 1, 1, 0, 1, 0, 1, 1, 1, 1, 1, 1, 1, 1, 1, 1, 1, 1, 1, 1,\n",
       "       1, 1, 1, 1, 1, 1, 0, 1, 1, 1, 1, 1, 1, 1, 0, 1, 1, 1, 1, 0, 1, 1,\n",
       "       0, 1, 1, 1, 1, 0, 0, 1, 1, 1, 1, 1, 1, 0, 1, 1, 0, 1, 1, 1, 1, 1,\n",
       "       0, 1, 1, 0, 0, 1, 1, 1, 1, 0, 1, 0, 0, 1, 1, 0, 1, 0, 1, 1, 0, 0,\n",
       "       0, 1, 0, 1, 1, 1, 1, 1, 1, 0, 0, 1, 1, 1, 1, 1, 1, 1, 1, 1, 1, 1,\n",
       "       0, 1, 1, 1, 0, 1, 1, 1, 1, 1, 1, 1, 1, 1, 1, 1, 1, 1, 1, 1, 1, 1,\n",
       "       1, 1, 1, 1, 1, 1, 1, 1, 1, 1, 1, 1, 1, 1, 0, 1, 1, 0, 0, 1, 0, 0,\n",
       "       1, 1, 1, 0, 1, 1, 1, 0, 0, 0, 0, 1, 1, 1, 1, 1, 1, 1, 1, 1, 1, 1,\n",
       "       1, 1, 0, 1, 1, 1, 1, 1, 0, 0, 1, 1, 0, 0, 1, 1, 1, 0, 0, 1, 1, 1,\n",
       "       0, 1, 1, 1, 1, 1, 1, 1, 1, 1, 0, 1, 1, 0, 1, 1, 1, 1, 1, 0, 1, 0,\n",
       "       0, 0, 1, 1, 1, 0, 0, 1, 0, 1, 1, 1, 1, 1, 1, 1, 1, 1, 1, 0, 1, 0,\n",
       "       1, 1, 0, 0, 1, 1, 1, 1, 1, 1, 1, 1, 1, 1, 1, 1, 0, 1, 0, 1, 0, 1,\n",
       "       1, 1, 0, 0, 0, 1, 1, 1, 1, 1, 0, 1, 1, 1, 1, 0, 1, 1, 0, 1, 1, 0,\n",
       "       0, 0, 0, 1, 1, 1, 1, 1, 1, 0, 1, 1, 1, 1, 1, 1, 1, 1, 1, 1, 1, 1,\n",
       "       1, 1, 1, 0, 1, 1, 1, 1, 1, 1, 1, 1, 0, 1, 1, 1, 1, 1, 0, 1, 1, 1,\n",
       "       0, 1, 1, 1, 1, 1, 1, 0, 0, 0, 1, 0, 0, 1, 1, 1, 0, 1, 1, 1, 1, 1,\n",
       "       1, 1, 0, 1, 1, 1, 0, 0, 1, 0, 1, 0, 1, 1, 1, 1, 1, 1, 1, 0, 1, 1,\n",
       "       1, 1, 1, 1, 1, 1, 1, 1, 1, 1, 1, 0, 0, 1, 0, 1, 0, 0, 0, 1, 1, 1,\n",
       "       0, 1, 0, 0, 1, 1, 1, 1, 1, 1, 1, 1, 1, 1, 0, 1, 1, 1, 0, 1, 1, 1,\n",
       "       1, 0, 1, 0, 1, 1, 1, 1, 1, 1, 1, 0, 0, 1, 1, 1, 1, 1, 0, 1, 1, 1,\n",
       "       1, 1, 1, 1, 1, 1, 0, 1, 0, 0, 1, 1, 1, 1, 1, 1, 0, 0, 1, 1, 1, 1,\n",
       "       1, 1, 1, 0, 1, 1, 1, 1, 1, 1, 1, 1, 1, 1, 1, 0, 1, 1, 1, 1, 1, 1,\n",
       "       0, 0, 1, 1, 1, 1, 0, 0, 1, 0, 1, 1, 1, 1, 0, 1, 1, 1, 1, 0, 1, 1,\n",
       "       1, 1, 1, 1, 1, 1, 0, 1, 1, 1, 1, 1, 1, 0, 1, 1, 0, 1, 1, 1, 1, 1,\n",
       "       1, 1, 1, 1, 1, 0, 1, 0, 1, 1, 1, 1, 1, 1, 1, 0, 0, 1, 1, 1, 0, 1,\n",
       "       1, 0, 1, 1, 1, 1, 1, 1, 1, 0, 1, 1, 1, 1, 1, 0, 1, 1, 1, 1, 0, 0,\n",
       "       0, 0, 0, 0, 0, 0, 0, 0, 0, 0, 0, 0, 0, 0, 0, 0, 0, 0, 0, 0, 0, 0,\n",
       "       0, 0, 0, 0, 0, 0, 0, 0, 0, 0, 0, 0, 0, 0, 0, 0, 0, 0, 0, 0, 0, 0,\n",
       "       0, 0, 0, 0, 0, 0, 0, 0, 0, 0, 0, 0, 0, 0, 0, 0, 0, 0, 0, 0, 0, 0,\n",
       "       0, 0, 0, 0, 0, 0, 0, 0, 0, 0, 0, 0, 0, 0, 0, 0, 0, 0, 0, 0, 0, 0,\n",
       "       0, 0, 0, 0, 0, 0, 0, 0, 0, 0, 0, 0, 0, 0, 0, 0, 0, 0, 0, 0, 0, 0,\n",
       "       0, 0, 0, 0, 0, 0, 0, 0, 0, 0, 0, 0, 0, 0, 0, 0, 0, 0, 0, 0, 0, 0,\n",
       "       0, 0, 0, 0, 0, 0, 0, 0, 0, 0, 0, 0, 0, 0, 0, 0, 0, 0, 0, 0, 0, 0,\n",
       "       0, 0, 0, 0, 0, 0, 0, 0, 0, 0, 0, 0, 0, 0, 0, 0, 0, 0, 0, 0, 0, 0,\n",
       "       0, 0, 0, 0, 0, 0, 0, 0, 0, 0, 0, 0, 0, 0, 0, 0, 0, 0, 0, 0, 0, 0,\n",
       "       0, 0, 0, 0, 0, 0, 0, 0, 0, 0, 0, 0, 0], dtype=int64)"
      ]
     },
     "execution_count": 7,
     "metadata": {},
     "output_type": "execute_result"
    }
   ],
   "source": [
    "#initialize the variable\n",
    "dataset.shape\n",
    "dataset.head()\n",
    "X = dataset.iloc[:,: -1].values\n",
    "y = dataset.iloc[:, -1].values\n",
    "X\n",
    "y"
   ]
  },
  {
   "cell_type": "code",
   "execution_count": 13,
   "metadata": {},
   "outputs": [
    {
     "data": {
      "text/plain": [
       "array([[ 0.60202842, -0.96319205, -0.69815472, ...,  0.36025189,\n",
       "         0.72708366, -1.26877963],\n",
       "       [ 0.60202842,  1.03821455,  0.37105631, ...,  0.36025189,\n",
       "         0.72708366,  1.32523954],\n",
       "       [ 0.60202842,  1.03821455, -0.69815472, ...,  0.36025189,\n",
       "         0.72708366, -1.26877963],\n",
       "       ...,\n",
       "       [ 0.60202842, -0.96319205,  0.37105631, ...,  0.36025189,\n",
       "         0.72708366, -1.26877963],\n",
       "       [ 0.60202842, -0.96319205,  1.44026734, ..., -2.77583558,\n",
       "         0.72708366,  0.02822995],\n",
       "       [ 0.60202842, -0.96319205, -0.69815472, ...,  0.36025189,\n",
       "         0.72708366,  0.02822995]])"
      ]
     },
     "execution_count": 13,
     "metadata": {},
     "output_type": "execute_result"
    }
   ],
   "source": [
    "dataset.columns\n",
    "pd.DataFrame(scaler.fit_transform(X),columns=[\"Gender\",\"Married\",\"Dependents\",\"Education\",\"Self_Employed\",\"ApplicantIncome\",\"CoapplicantIncome\",\"LoanAmount\",\"Loan_Term\",\"Credit_History_Available\",\"Housing\",\"Locality\"])\n",
    "X = scaler.fit_transform(X)\n",
    "X"
   ]
  },
  {
   "cell_type": "code",
   "execution_count": 15,
   "metadata": {},
   "outputs": [
    {
     "data": {
      "text/html": [
       "<div>\n",
       "<style scoped>\n",
       "    .dataframe tbody tr th:only-of-type {\n",
       "        vertical-align: middle;\n",
       "    }\n",
       "\n",
       "    .dataframe tbody tr th {\n",
       "        vertical-align: top;\n",
       "    }\n",
       "\n",
       "    .dataframe thead th {\n",
       "        text-align: right;\n",
       "    }\n",
       "</style>\n",
       "<table border=\"1\" class=\"dataframe\">\n",
       "  <thead>\n",
       "    <tr style=\"text-align: right;\">\n",
       "      <th></th>\n",
       "      <th>Gender</th>\n",
       "      <th>Married</th>\n",
       "      <th>Dependents</th>\n",
       "      <th>Education</th>\n",
       "      <th>Self_Employed</th>\n",
       "      <th>ApplicantIncome</th>\n",
       "      <th>CoapplicantIncome</th>\n",
       "      <th>LoanAmount</th>\n",
       "      <th>Loan_Term</th>\n",
       "      <th>Credit_History_Available</th>\n",
       "      <th>Housing</th>\n",
       "      <th>Locality</th>\n",
       "    </tr>\n",
       "  </thead>\n",
       "  <tbody>\n",
       "    <tr>\n",
       "      <th>0</th>\n",
       "      <td>0.602028</td>\n",
       "      <td>-0.963192</td>\n",
       "      <td>-0.698155</td>\n",
       "      <td>0.514321</td>\n",
       "      <td>-1.161650</td>\n",
       "      <td>0.113773</td>\n",
       "      <td>-0.530514</td>\n",
       "      <td>0.064028</td>\n",
       "      <td>0.290433</td>\n",
       "      <td>0.360252</td>\n",
       "      <td>0.727084</td>\n",
       "      <td>-1.26878</td>\n",
       "    </tr>\n",
       "    <tr>\n",
       "      <th>1</th>\n",
       "      <td>0.602028</td>\n",
       "      <td>1.038215</td>\n",
       "      <td>0.371056</td>\n",
       "      <td>0.514321</td>\n",
       "      <td>0.860844</td>\n",
       "      <td>-0.112689</td>\n",
       "      <td>0.007836</td>\n",
       "      <td>-0.161615</td>\n",
       "      <td>0.290433</td>\n",
       "      <td>0.360252</td>\n",
       "      <td>0.727084</td>\n",
       "      <td>1.32524</td>\n",
       "    </tr>\n",
       "    <tr>\n",
       "      <th>2</th>\n",
       "      <td>0.602028</td>\n",
       "      <td>1.038215</td>\n",
       "      <td>-0.698155</td>\n",
       "      <td>0.514321</td>\n",
       "      <td>0.860844</td>\n",
       "      <td>-0.395857</td>\n",
       "      <td>-0.530514</td>\n",
       "      <td>-0.938828</td>\n",
       "      <td>0.290433</td>\n",
       "      <td>0.360252</td>\n",
       "      <td>0.727084</td>\n",
       "      <td>-1.26878</td>\n",
       "    </tr>\n",
       "    <tr>\n",
       "      <th>3</th>\n",
       "      <td>0.602028</td>\n",
       "      <td>1.038215</td>\n",
       "      <td>-0.698155</td>\n",
       "      <td>-1.944311</td>\n",
       "      <td>0.860844</td>\n",
       "      <td>-0.470450</td>\n",
       "      <td>0.311282</td>\n",
       "      <td>-0.261901</td>\n",
       "      <td>0.290433</td>\n",
       "      <td>0.360252</td>\n",
       "      <td>0.727084</td>\n",
       "      <td>-1.26878</td>\n",
       "    </tr>\n",
       "    <tr>\n",
       "      <th>4</th>\n",
       "      <td>0.602028</td>\n",
       "      <td>-0.963192</td>\n",
       "      <td>-0.698155</td>\n",
       "      <td>0.514321</td>\n",
       "      <td>-1.161650</td>\n",
       "      <td>0.140784</td>\n",
       "      <td>-0.530514</td>\n",
       "      <td>0.001349</td>\n",
       "      <td>0.290433</td>\n",
       "      <td>0.360252</td>\n",
       "      <td>0.727084</td>\n",
       "      <td>-1.26878</td>\n",
       "    </tr>\n",
       "    <tr>\n",
       "      <th>...</th>\n",
       "      <td>...</td>\n",
       "      <td>...</td>\n",
       "      <td>...</td>\n",
       "      <td>...</td>\n",
       "      <td>...</td>\n",
       "      <td>...</td>\n",
       "      <td>...</td>\n",
       "      <td>...</td>\n",
       "      <td>...</td>\n",
       "      <td>...</td>\n",
       "      <td>...</td>\n",
       "      <td>...</td>\n",
       "    </tr>\n",
       "    <tr>\n",
       "      <th>822</th>\n",
       "      <td>-1.661051</td>\n",
       "      <td>-0.963192</td>\n",
       "      <td>0.371056</td>\n",
       "      <td>0.514321</td>\n",
       "      <td>-1.161650</td>\n",
       "      <td>-0.418754</td>\n",
       "      <td>0.024972</td>\n",
       "      <td>-0.625436</td>\n",
       "      <td>0.290433</td>\n",
       "      <td>0.360252</td>\n",
       "      <td>0.727084</td>\n",
       "      <td>-1.26878</td>\n",
       "    </tr>\n",
       "    <tr>\n",
       "      <th>823</th>\n",
       "      <td>-1.661051</td>\n",
       "      <td>-0.963192</td>\n",
       "      <td>0.371056</td>\n",
       "      <td>0.514321</td>\n",
       "      <td>0.860844</td>\n",
       "      <td>0.605157</td>\n",
       "      <td>-0.530514</td>\n",
       "      <td>0.264599</td>\n",
       "      <td>0.290433</td>\n",
       "      <td>0.360252</td>\n",
       "      <td>0.727084</td>\n",
       "      <td>0.02823</td>\n",
       "    </tr>\n",
       "    <tr>\n",
       "      <th>824</th>\n",
       "      <td>0.602028</td>\n",
       "      <td>-0.963192</td>\n",
       "      <td>0.371056</td>\n",
       "      <td>0.514321</td>\n",
       "      <td>0.860844</td>\n",
       "      <td>-0.277080</td>\n",
       "      <td>-0.530514</td>\n",
       "      <td>-0.399793</td>\n",
       "      <td>-1.635004</td>\n",
       "      <td>0.360252</td>\n",
       "      <td>0.727084</td>\n",
       "      <td>-1.26878</td>\n",
       "    </tr>\n",
       "    <tr>\n",
       "      <th>825</th>\n",
       "      <td>0.602028</td>\n",
       "      <td>-0.963192</td>\n",
       "      <td>1.440267</td>\n",
       "      <td>0.514321</td>\n",
       "      <td>-1.161650</td>\n",
       "      <td>-0.052228</td>\n",
       "      <td>-0.530514</td>\n",
       "      <td>0.264599</td>\n",
       "      <td>0.290433</td>\n",
       "      <td>-2.775836</td>\n",
       "      <td>0.727084</td>\n",
       "      <td>0.02823</td>\n",
       "    </tr>\n",
       "    <tr>\n",
       "      <th>826</th>\n",
       "      <td>0.602028</td>\n",
       "      <td>-0.963192</td>\n",
       "      <td>-0.698155</td>\n",
       "      <td>0.514321</td>\n",
       "      <td>-1.161650</td>\n",
       "      <td>-0.244345</td>\n",
       "      <td>-0.530514</td>\n",
       "      <td>-0.788400</td>\n",
       "      <td>0.290433</td>\n",
       "      <td>0.360252</td>\n",
       "      <td>0.727084</td>\n",
       "      <td>0.02823</td>\n",
       "    </tr>\n",
       "  </tbody>\n",
       "</table>\n",
       "<p>827 rows × 12 columns</p>\n",
       "</div>"
      ],
      "text/plain": [
       "       Gender   Married  Dependents  Education  Self_Employed  \\\n",
       "0    0.602028 -0.963192   -0.698155   0.514321      -1.161650   \n",
       "1    0.602028  1.038215    0.371056   0.514321       0.860844   \n",
       "2    0.602028  1.038215   -0.698155   0.514321       0.860844   \n",
       "3    0.602028  1.038215   -0.698155  -1.944311       0.860844   \n",
       "4    0.602028 -0.963192   -0.698155   0.514321      -1.161650   \n",
       "..        ...       ...         ...        ...            ...   \n",
       "822 -1.661051 -0.963192    0.371056   0.514321      -1.161650   \n",
       "823 -1.661051 -0.963192    0.371056   0.514321       0.860844   \n",
       "824  0.602028 -0.963192    0.371056   0.514321       0.860844   \n",
       "825  0.602028 -0.963192    1.440267   0.514321      -1.161650   \n",
       "826  0.602028 -0.963192   -0.698155   0.514321      -1.161650   \n",
       "\n",
       "     ApplicantIncome  CoapplicantIncome  LoanAmount  Loan_Term  \\\n",
       "0           0.113773          -0.530514    0.064028   0.290433   \n",
       "1          -0.112689           0.007836   -0.161615   0.290433   \n",
       "2          -0.395857          -0.530514   -0.938828   0.290433   \n",
       "3          -0.470450           0.311282   -0.261901   0.290433   \n",
       "4           0.140784          -0.530514    0.001349   0.290433   \n",
       "..               ...                ...         ...        ...   \n",
       "822        -0.418754           0.024972   -0.625436   0.290433   \n",
       "823         0.605157          -0.530514    0.264599   0.290433   \n",
       "824        -0.277080          -0.530514   -0.399793  -1.635004   \n",
       "825        -0.052228          -0.530514    0.264599   0.290433   \n",
       "826        -0.244345          -0.530514   -0.788400   0.290433   \n",
       "\n",
       "     Credit_History_Available   Housing  Locality  \n",
       "0                    0.360252  0.727084  -1.26878  \n",
       "1                    0.360252  0.727084   1.32524  \n",
       "2                    0.360252  0.727084  -1.26878  \n",
       "3                    0.360252  0.727084  -1.26878  \n",
       "4                    0.360252  0.727084  -1.26878  \n",
       "..                        ...       ...       ...  \n",
       "822                  0.360252  0.727084  -1.26878  \n",
       "823                  0.360252  0.727084   0.02823  \n",
       "824                  0.360252  0.727084  -1.26878  \n",
       "825                 -2.775836  0.727084   0.02823  \n",
       "826                  0.360252  0.727084   0.02823  \n",
       "\n",
       "[827 rows x 12 columns]"
      ]
     },
     "execution_count": 15,
     "metadata": {},
     "output_type": "execute_result"
    }
   ],
   "source": [
    "dataset_new=pd.DataFrame(scaler.fit_transform(dataset[[\"Gender\",\"Married\",\"Dependents\",\"Education\",\"Self_Employed\",\"ApplicantIncome\",\"CoapplicantIncome\",\"LoanAmount\",\"Loan_Term\",\"Credit_History_Available\",\"Housing\",\"Locality\"]]),columns=[\"Gender\",\"Married\",\"Dependents\",\"Education\",\"Self_Employed\",\"ApplicantIncome\",\"CoapplicantIncome\",\"LoanAmount\",\"Loan_Term\",\"Credit_History_Available\",\"Housing\",\"Locality\"])\n",
    "dataset_new"
   ]
  },
  {
   "cell_type": "code",
   "execution_count": 16,
   "metadata": {},
   "outputs": [
    {
     "data": {
      "text/html": [
       "<div>\n",
       "<style scoped>\n",
       "    .dataframe tbody tr th:only-of-type {\n",
       "        vertical-align: middle;\n",
       "    }\n",
       "\n",
       "    .dataframe tbody tr th {\n",
       "        vertical-align: top;\n",
       "    }\n",
       "\n",
       "    .dataframe thead th {\n",
       "        text-align: right;\n",
       "    }\n",
       "</style>\n",
       "<table border=\"1\" class=\"dataframe\">\n",
       "  <thead>\n",
       "    <tr style=\"text-align: right;\">\n",
       "      <th></th>\n",
       "      <th>Gender</th>\n",
       "      <th>Married</th>\n",
       "      <th>Dependents</th>\n",
       "      <th>Education</th>\n",
       "      <th>Self_Employed</th>\n",
       "      <th>ApplicantIncome</th>\n",
       "      <th>CoapplicantIncome</th>\n",
       "      <th>LoanAmount</th>\n",
       "      <th>Loan_Term</th>\n",
       "      <th>Credit_History_Available</th>\n",
       "      <th>Housing</th>\n",
       "      <th>Locality</th>\n",
       "    </tr>\n",
       "  </thead>\n",
       "  <tbody>\n",
       "    <tr>\n",
       "      <th>0</th>\n",
       "      <td>0.602028</td>\n",
       "      <td>-0.963192</td>\n",
       "      <td>-0.698155</td>\n",
       "      <td>0.514321</td>\n",
       "      <td>-1.161650</td>\n",
       "      <td>0.113773</td>\n",
       "      <td>-0.530514</td>\n",
       "      <td>0.064028</td>\n",
       "      <td>0.290433</td>\n",
       "      <td>0.360252</td>\n",
       "      <td>0.727084</td>\n",
       "      <td>-1.26878</td>\n",
       "    </tr>\n",
       "    <tr>\n",
       "      <th>1</th>\n",
       "      <td>0.602028</td>\n",
       "      <td>1.038215</td>\n",
       "      <td>0.371056</td>\n",
       "      <td>0.514321</td>\n",
       "      <td>0.860844</td>\n",
       "      <td>-0.112689</td>\n",
       "      <td>0.007836</td>\n",
       "      <td>-0.161615</td>\n",
       "      <td>0.290433</td>\n",
       "      <td>0.360252</td>\n",
       "      <td>0.727084</td>\n",
       "      <td>1.32524</td>\n",
       "    </tr>\n",
       "    <tr>\n",
       "      <th>2</th>\n",
       "      <td>0.602028</td>\n",
       "      <td>1.038215</td>\n",
       "      <td>-0.698155</td>\n",
       "      <td>0.514321</td>\n",
       "      <td>0.860844</td>\n",
       "      <td>-0.395857</td>\n",
       "      <td>-0.530514</td>\n",
       "      <td>-0.938828</td>\n",
       "      <td>0.290433</td>\n",
       "      <td>0.360252</td>\n",
       "      <td>0.727084</td>\n",
       "      <td>-1.26878</td>\n",
       "    </tr>\n",
       "    <tr>\n",
       "      <th>3</th>\n",
       "      <td>0.602028</td>\n",
       "      <td>1.038215</td>\n",
       "      <td>-0.698155</td>\n",
       "      <td>-1.944311</td>\n",
       "      <td>0.860844</td>\n",
       "      <td>-0.470450</td>\n",
       "      <td>0.311282</td>\n",
       "      <td>-0.261901</td>\n",
       "      <td>0.290433</td>\n",
       "      <td>0.360252</td>\n",
       "      <td>0.727084</td>\n",
       "      <td>-1.26878</td>\n",
       "    </tr>\n",
       "    <tr>\n",
       "      <th>4</th>\n",
       "      <td>0.602028</td>\n",
       "      <td>-0.963192</td>\n",
       "      <td>-0.698155</td>\n",
       "      <td>0.514321</td>\n",
       "      <td>-1.161650</td>\n",
       "      <td>0.140784</td>\n",
       "      <td>-0.530514</td>\n",
       "      <td>0.001349</td>\n",
       "      <td>0.290433</td>\n",
       "      <td>0.360252</td>\n",
       "      <td>0.727084</td>\n",
       "      <td>-1.26878</td>\n",
       "    </tr>\n",
       "  </tbody>\n",
       "</table>\n",
       "</div>"
      ],
      "text/plain": [
       "     Gender   Married  Dependents  Education  Self_Employed  ApplicantIncome  \\\n",
       "0  0.602028 -0.963192   -0.698155   0.514321      -1.161650         0.113773   \n",
       "1  0.602028  1.038215    0.371056   0.514321       0.860844        -0.112689   \n",
       "2  0.602028  1.038215   -0.698155   0.514321       0.860844        -0.395857   \n",
       "3  0.602028  1.038215   -0.698155  -1.944311       0.860844        -0.470450   \n",
       "4  0.602028 -0.963192   -0.698155   0.514321      -1.161650         0.140784   \n",
       "\n",
       "   CoapplicantIncome  LoanAmount  Loan_Term  Credit_History_Available  \\\n",
       "0          -0.530514    0.064028   0.290433                  0.360252   \n",
       "1           0.007836   -0.161615   0.290433                  0.360252   \n",
       "2          -0.530514   -0.938828   0.290433                  0.360252   \n",
       "3           0.311282   -0.261901   0.290433                  0.360252   \n",
       "4          -0.530514    0.001349   0.290433                  0.360252   \n",
       "\n",
       "    Housing  Locality  \n",
       "0  0.727084  -1.26878  \n",
       "1  0.727084   1.32524  \n",
       "2  0.727084  -1.26878  \n",
       "3  0.727084  -1.26878  \n",
       "4  0.727084  -1.26878  "
      ]
     },
     "execution_count": 16,
     "metadata": {},
     "output_type": "execute_result"
    }
   ],
   "source": [
    "dataset_new.head()"
   ]
  },
  {
   "cell_type": "markdown",
   "metadata": {},
   "source": [
    "## Training and Testing"
   ]
  },
  {
   "cell_type": "code",
   "execution_count": 20,
   "metadata": {},
   "outputs": [],
   "source": [
    "from sklearn.model_selection import train_test_split\n",
    "X_train, X_test, y_train, y_test = train_test_split (X, y, test_size = 0.3, random_state = 40)"
   ]
  },
  {
   "cell_type": "code",
   "execution_count": 21,
   "metadata": {
    "scrolled": true
   },
   "outputs": [
    {
     "data": {
      "text/plain": [
       "array([[ 0.60202842, -0.96319205, -0.69815472, ...,  0.36025189,\n",
       "         0.72708366, -1.26877963],\n",
       "       [-1.66105115, -0.96319205, -0.69815472, ...,  0.36025189,\n",
       "         0.72708366, -1.26877963],\n",
       "       [ 0.60202842,  1.03821455, -0.69815472, ...,  0.36025189,\n",
       "         0.72708366,  0.02822995],\n",
       "       ...,\n",
       "       [ 0.60202842,  1.03821455, -0.69815472, ...,  0.36025189,\n",
       "        -1.37535755,  1.32523954],\n",
       "       [ 0.60202842, -0.96319205,  2.50947836, ...,  0.36025189,\n",
       "         0.72708366,  1.32523954],\n",
       "       [ 0.60202842,  1.03821455, -0.69815472, ...,  0.36025189,\n",
       "        -1.37535755, -1.26877963]])"
      ]
     },
     "execution_count": 21,
     "metadata": {},
     "output_type": "execute_result"
    }
   ],
   "source": [
    "X_test"
   ]
  },
  {
   "cell_type": "code",
   "execution_count": 22,
   "metadata": {},
   "outputs": [
    {
     "data": {
      "text/plain": [
       "array([0, 0, 1, 1, 0, 0, 0, 0, 1, 1, 0, 1, 0, 1, 0, 0, 1, 1, 0, 1, 0, 0,\n",
       "       1, 0, 0, 1, 1, 0, 0, 1, 0, 0, 1, 1, 0, 0, 1, 0, 1, 1, 1, 1, 0, 0,\n",
       "       0, 1, 1, 1, 0, 1, 0, 1, 1, 1, 0, 0, 0, 0, 1, 1, 1, 1, 0, 1, 1, 0,\n",
       "       1, 0, 0, 0, 1, 1, 0, 1, 1, 1, 0, 0, 1, 1, 0, 0, 0, 1, 1, 0, 1, 0,\n",
       "       0, 1, 0, 0, 1, 1, 1, 1, 1, 1, 0, 0, 0, 1, 0, 1, 1, 1, 1, 1, 0, 0,\n",
       "       0, 1, 0, 1, 1, 1, 1, 1, 0, 1, 1, 0, 0, 1, 1, 0, 0, 0, 1, 1, 1, 0,\n",
       "       1, 1, 1, 0, 1, 0, 1, 0, 1, 1, 0, 1, 1, 0, 0, 0, 0, 1, 1, 1, 1, 0,\n",
       "       0, 1, 1, 0, 1, 0, 1, 0, 1, 0, 0, 1, 1, 0, 1, 1, 0, 0, 0, 1, 1, 1,\n",
       "       0, 1, 0, 1, 1, 0, 1, 0, 1, 0, 0, 1, 1, 1, 0, 1, 1, 1, 0, 1, 1, 1,\n",
       "       1, 0, 1, 0, 0, 0, 0, 0, 0, 1, 1, 1, 0, 1, 1, 1, 1, 0, 1, 1, 1, 0,\n",
       "       0, 1, 1, 1, 1, 0, 1, 1, 1, 0, 1, 0, 1, 1, 1, 1, 0, 1, 0, 1, 1, 0,\n",
       "       0, 0, 1, 0, 1, 1, 1], dtype=int64)"
      ]
     },
     "execution_count": 22,
     "metadata": {},
     "output_type": "execute_result"
    }
   ],
   "source": [
    "y_test"
   ]
  },
  {
   "cell_type": "markdown",
   "metadata": {
    "scrolled": true
   },
   "source": [
    "# Using KNN"
   ]
  },
  {
   "cell_type": "code",
   "execution_count": 24,
   "metadata": {},
   "outputs": [],
   "source": [
    "from sklearn.neighbors import KNeighborsClassifier"
   ]
  },
  {
   "cell_type": "code",
   "execution_count": 37,
   "metadata": {},
   "outputs": [],
   "source": [
    "knn = KNeighborsClassifier(n_neighbors=25)"
   ]
  },
  {
   "cell_type": "code",
   "execution_count": 38,
   "metadata": {
    "scrolled": true
   },
   "outputs": [
    {
     "data": {
      "text/plain": [
       "KNeighborsClassifier(n_neighbors=25)"
      ]
     },
     "execution_count": 38,
     "metadata": {},
     "output_type": "execute_result"
    }
   ],
   "source": [
    "knn.fit(X_train,y_train)"
   ]
  },
  {
   "cell_type": "code",
   "execution_count": 39,
   "metadata": {},
   "outputs": [
    {
     "data": {
      "text/plain": [
       "array([0, 0, 1, 1, 0, 0, 0, 0, 1, 1], dtype=int64)"
      ]
     },
     "execution_count": 39,
     "metadata": {},
     "output_type": "execute_result"
    }
   ],
   "source": [
    "pred = knn.predict(X_test)\n",
    "pred[:10]\n",
    "np.array(y_test)[:10]"
   ]
  },
  {
   "cell_type": "code",
   "execution_count": 40,
   "metadata": {},
   "outputs": [],
   "source": [
    "from sklearn.metrics import accuracy_score"
   ]
  },
  {
   "cell_type": "code",
   "execution_count": 62,
   "metadata": {},
   "outputs": [
    {
     "data": {
      "text/plain": [
       "91.56626506024097"
      ]
     },
     "execution_count": 62,
     "metadata": {},
     "output_type": "execute_result"
    }
   ],
   "source": [
    "accuracy_score(y_test,pred)*100"
   ]
  },
  {
   "cell_type": "markdown",
   "metadata": {},
   "source": [
    "## Prediction and Evaluation"
   ]
  },
  {
   "cell_type": "code",
   "execution_count": 45,
   "metadata": {},
   "outputs": [],
   "source": [
    "from sklearn.metrics import classification_report,confusion_matrix, accuracy_score"
   ]
  },
  {
   "cell_type": "code",
   "execution_count": 46,
   "metadata": {},
   "outputs": [
    {
     "name": "stdout",
     "output_type": "stream",
     "text": [
      "[[105   4]\n",
      " [ 17 123]]\n"
     ]
    }
   ],
   "source": [
    "print(confusion_matrix(y_test,pred))"
   ]
  },
  {
   "cell_type": "code",
   "execution_count": 47,
   "metadata": {},
   "outputs": [
    {
     "name": "stdout",
     "output_type": "stream",
     "text": [
      "              precision    recall  f1-score   support\n",
      "\n",
      "           0       0.86      0.96      0.91       109\n",
      "           1       0.97      0.88      0.92       140\n",
      "\n",
      "    accuracy                           0.92       249\n",
      "   macro avg       0.91      0.92      0.92       249\n",
      "weighted avg       0.92      0.92      0.92       249\n",
      "\n"
     ]
    }
   ],
   "source": [
    "print(classification_report(y_test,pred))"
   ]
  },
  {
   "cell_type": "code",
   "execution_count": 48,
   "metadata": {},
   "outputs": [
    {
     "data": {
      "text/plain": [
       "0.9156626506024096"
      ]
     },
     "execution_count": 48,
     "metadata": {},
     "output_type": "execute_result"
    }
   ],
   "source": [
    "accuracy_score(y_test,pred)"
   ]
  },
  {
   "cell_type": "markdown",
   "metadata": {},
   "source": [
    "## Choosing K-Value & Visualization"
   ]
  },
  {
   "cell_type": "code",
   "execution_count": 53,
   "metadata": {},
   "outputs": [],
   "source": [
    "guy = []\n",
    "for i in range(1,60):\n",
    "    knn = KNeighborsClassifier(n_neighbors=i)\n",
    "    knn.fit(X_train,y_train)\n",
    "    pred_i = knn.predict(X_test)\n",
    "    guy.append(accuracy_score(y_test,pred_i))"
   ]
  },
  {
   "cell_type": "code",
   "execution_count": 61,
   "metadata": {},
   "outputs": [
    {
     "data": {
      "image/png": "[encoded data removed]",
      "text/plain": [
       "<Figure size 720x432 with 1 Axes>"
      ]
     },
     "metadata": {
      "needs_background": "light"
     },
     "output_type": "display_data"
    }
   ],
   "source": [
    "plt.figure(figsize=(10,6))\n",
    "plt.scatter(range(1,60),guy)\n",
    "plt.plot(range(1,60),guy);"
   ]
  },
  {
   "cell_type": "code",
   "execution_count": 60,
   "metadata": {},
   "outputs": [
    {
     "data": {
      "image/png": "[encoded data removed]",
      "text/plain": [
       "<Figure size 720x432 with 1 Axes>"
      ]
     },
     "metadata": {
      "needs_background": "light"
     },
     "output_type": "display_data"
    }
   ],
   "source": [
    "plt.figure(figsize=(10,6))\n",
    "plt.plot(range(1,60),Accu,color='blue', linestyle='dashed', marker='o',markerfacecolor='orange', markersize=10)\n",
    "plt.title('Accuracy vs K Value')\n",
    "plt.xlabel('K-Value')\n",
    "plt.ylabel('Accuracy');"
   ]
  },
  {
   "cell_type": "code",
   "execution_count": null,
   "metadata": {},
   "outputs": [],
   "source": []
  },
  {
   "cell_type": "code",
   "execution_count": null,
   "metadata": {},
   "outputs": [],
   "source": []
  },
  {
   "cell_type": "code",
   "execution_count": null,
   "metadata": {},
   "outputs": [],
   "source": []
  }
 ],
 "metadata": {
  "kernelspec": {
   "display_name": "Python 3",
   "language": "python",
   "name": "python3"
  },
  "language_info": {
   "codemirror_mode": {
    "name": "ipython",
    "version": 3
   },
   "file_extension": ".py",
   "mimetype": "text/x-python",
   "name": "python",
   "nbconvert_exporter": "python",
   "pygments_lexer": "ipython3",
   "version": "3.8.5"
  }
 },
 "nbformat": 4,
 "nbformat_minor": 4
}
